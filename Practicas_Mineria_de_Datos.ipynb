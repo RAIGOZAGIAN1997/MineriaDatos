{
  "nbformat": 4,
  "nbformat_minor": 0,
  "metadata": {
    "colab": {
      "name": "Practicas Mineria de Datos.ipynb",
      "provenance": [],
      "collapsed_sections": [],
      "authorship_tag": "ABX9TyOH0wbcDsQunfqhEDcJuyKT",
      "include_colab_link": true
    },
    "kernelspec": {
      "name": "python3",
      "display_name": "Python 3"
    },
    "language_info": {
      "name": "python"
    }
  },
  "cells": [
    {
      "cell_type": "markdown",
      "metadata": {
        "id": "view-in-github",
        "colab_type": "text"
      },
      "source": [
        "<a href=\"https://colab.research.google.com/github/RAIGOZAGIAN1997/MineriaDatos/blob/main/Practicas_Mineria_de_Datos.ipynb\" target=\"_parent\"><img src=\"https://colab.research.google.com/assets/colab-badge.svg\" alt=\"Open In Colab\"/></a>"
      ]
    },
    {
      "cell_type": "markdown",
      "source": [
        "# **PRACTICAS MINERIA DE DATOS**\n",
        "\n",
        "* Nombre: Gian Molina Raigoza\n",
        "* Matricula:1636155\n",
        "* Datebase: Blockbuster Movies\n",
        "\n",
        "**Practicas**\n",
        "\n",
        "1.- Adquisición de datos\n",
        "\n",
        "2.- Limpieza de datos.\n",
        "\n",
        "3.- Análisis de datos.\n",
        "\n",
        "4.- Graficación.\n",
        "\n",
        "5.- Prueba de hipótesis.\n",
        "\n",
        "6.- Regresión lineal\n",
        "\n",
        "7.- Predicciones\n",
        "\n",
        "\n",
        "\n"
      ],
      "metadata": {
        "id": "n8elH-kNfp3s"
      }
    },
    {
      "cell_type": "markdown",
      "source": [
        "**Practica 1**"
      ],
      "metadata": {
        "id": "EYNtci6NNwRc"
      }
    },
    {
      "cell_type": "code",
      "execution_count": null,
      "metadata": {
        "id": "-zBLulmbdqib"
      },
      "outputs": [],
      "source": [
        "\n",
        "#Se importan las librerias necesarias para realizar las practicas correspondientes\n",
        "import requests\n",
        "import io\n",
        "import numpy as np\n",
        "from bs4 import BeautifulSoup\n",
        "import pandas as pd\n",
        "from tabulate import tabulate\n",
        "from typing import Tuple, List\n",
        "import re\n",
        "from datetime import datetime\n",
        "import matplotlib.pyplot as plt\n",
        "#Se carga el documento CSV a analizar\n",
        "\n",
        "def get_soup(url: str) -> BeautifulSoup:\n",
        "    response = requests.get(url)\n",
        "    return BeautifulSoup(response.content, 'html.parser')\n",
        "\n",
        "def get_csv_from_url(url:str) -> pd.DataFrame:\n",
        "    s=requests.get(url).content\n",
        "    return pd.read_csv(io.StringIO(s.decode('utf-8')))\n",
        "\n",
        "def print_tabulate(df: pd.DataFrame):\n",
        "    print(tabulate(df, headers=df.columns, tablefmt='orgtbl'))\n",
        "    \n",
        "df = get_csv_from_url(\"https://raw.githubusercontent.com/RAIGOZAGIAN1997/MineriaDatos/main/blockbuster-top_ten_movies_per_year_DFE.csv\")\n"
      ]
    },
    {
      "cell_type": "markdown",
      "source": [
        "**Practica 2**"
      ],
      "metadata": {
        "id": "G7sZBJg6N4FK"
      }
    },
    {
      "cell_type": "code",
      "source": [
        "#La información del CSV se transforma en Dataframe\n",
        "#df = pd.read_csv(io.BytesIO(subircsv['blockbuster-top_ten_movies_per_year_DFE.csv'])) \n",
        "#Se renombra los nombres de las columnas en español\n",
        "df.rename({'title': 'Titulo','studio': 'Estudio', 'Genre_1': 'Genero','imdb_rating': 'IMDB', 'year': 'Año','worldwide_gross': 'Recaudación'}, axis=1, inplace=True)\n",
        "#Se coloca 0 en los años donde no hay información\n",
        "df['Año'] = df['Año'].fillna(0)\n",
        "#Se transforma los años flotantes en enteros\n",
        "df['Año'] = df['Año'].astype(np.int64, errors='ignore')\n",
        "#Se eliminan valores nulos\n",
        "df = df.dropna()"
      ],
      "metadata": {
        "id": "I8EDP3S3IsNC"
      },
      "execution_count": null,
      "outputs": []
    },
    {
      "cell_type": "code",
      "source": [
        "#Se crea el DataFrame final en el que se va trabajar\n",
        "df_final = pd.DataFrame.from_dict(df.loc[:,['Estudio','Titulo','Genero','IMDB','Año','Recaudación']])\n",
        "#Se comprueba el dataframe con los nuevos nombres y las columnas seleccionadas\n",
        "df_final.head(500)"
      ],
      "metadata": {
        "colab": {
          "base_uri": "https://localhost:8080/",
          "height": 424
        },
        "id": "CEkWtN7BQ9tv",
        "outputId": "542732d6-24a9-4d47-9355-e2b2d452eb51"
      },
      "execution_count": null,
      "outputs": [
        {
          "output_type": "execute_result",
          "data": {
            "text/plain": [
              "                     Estudio                               Titulo    Genero  \\\n",
              "0             Marvel Studios  Captain America: The Winter Soldier    Sci-Fi   \n",
              "1           20th Century Fox       Dawn of the Planet of the Apes    Sci-Fi   \n",
              "2             Marvel Studios              Guardians of the Galaxy    Sci-Fi   \n",
              "4       Walt Disney Pictures                           Maleficent    Family   \n",
              "5          Columbia Pictures             The Amazing Spider-Man 2   Fantasy   \n",
              "..                       ...                                  ...       ...   \n",
              "392        Columbia Pictures                           Funny Lady   Musical   \n",
              "394  Walt Disney Productions              The Apple Dumpling Gang   Western   \n",
              "395       Universal Pictures       The Other Side of the Mountain     Drama   \n",
              "396           United Artists       The Return of the Pink Panther   Mystery   \n",
              "398               Touchstone                                Signs  Thriller   \n",
              "\n",
              "     IMDB   Año       Recaudación  \n",
              "0     7.8  2014  $714,766,572.00   \n",
              "1     7.7  2014  $708,835,589.00   \n",
              "2     8.1  2014  $774,176,600.00   \n",
              "4     7.1  2014  $758,654,942.00   \n",
              "5     6.9  2014  $709,582,323.00   \n",
              "..    ...   ...               ...  \n",
              "392   6.4  1975   $39,000,000.00   \n",
              "394   6.2  1975   $36,853,000.00   \n",
              "395   6.4  1975   $34,673,100.00   \n",
              "396   7.1  1975   $41,833,347.00   \n",
              "398   6.7  2002  $408,247,917.00   \n",
              "\n",
              "[269 rows x 6 columns]"
            ],
            "text/html": [
              "\n",
              "  <div id=\"df-93b91160-be51-49f5-b207-73763aeb814d\">\n",
              "    <div class=\"colab-df-container\">\n",
              "      <div>\n",
              "<style scoped>\n",
              "    .dataframe tbody tr th:only-of-type {\n",
              "        vertical-align: middle;\n",
              "    }\n",
              "\n",
              "    .dataframe tbody tr th {\n",
              "        vertical-align: top;\n",
              "    }\n",
              "\n",
              "    .dataframe thead th {\n",
              "        text-align: right;\n",
              "    }\n",
              "</style>\n",
              "<table border=\"1\" class=\"dataframe\">\n",
              "  <thead>\n",
              "    <tr style=\"text-align: right;\">\n",
              "      <th></th>\n",
              "      <th>Estudio</th>\n",
              "      <th>Titulo</th>\n",
              "      <th>Genero</th>\n",
              "      <th>IMDB</th>\n",
              "      <th>Año</th>\n",
              "      <th>Recaudación</th>\n",
              "    </tr>\n",
              "  </thead>\n",
              "  <tbody>\n",
              "    <tr>\n",
              "      <th>0</th>\n",
              "      <td>Marvel Studios</td>\n",
              "      <td>Captain America: The Winter Soldier</td>\n",
              "      <td>Sci-Fi</td>\n",
              "      <td>7.8</td>\n",
              "      <td>2014</td>\n",
              "      <td>$714,766,572.00</td>\n",
              "    </tr>\n",
              "    <tr>\n",
              "      <th>1</th>\n",
              "      <td>20th Century Fox</td>\n",
              "      <td>Dawn of the Planet of the Apes</td>\n",
              "      <td>Sci-Fi</td>\n",
              "      <td>7.7</td>\n",
              "      <td>2014</td>\n",
              "      <td>$708,835,589.00</td>\n",
              "    </tr>\n",
              "    <tr>\n",
              "      <th>2</th>\n",
              "      <td>Marvel Studios</td>\n",
              "      <td>Guardians of the Galaxy</td>\n",
              "      <td>Sci-Fi</td>\n",
              "      <td>8.1</td>\n",
              "      <td>2014</td>\n",
              "      <td>$774,176,600.00</td>\n",
              "    </tr>\n",
              "    <tr>\n",
              "      <th>4</th>\n",
              "      <td>Walt Disney Pictures</td>\n",
              "      <td>Maleficent</td>\n",
              "      <td>Family</td>\n",
              "      <td>7.1</td>\n",
              "      <td>2014</td>\n",
              "      <td>$758,654,942.00</td>\n",
              "    </tr>\n",
              "    <tr>\n",
              "      <th>5</th>\n",
              "      <td>Columbia Pictures</td>\n",
              "      <td>The Amazing Spider-Man 2</td>\n",
              "      <td>Fantasy</td>\n",
              "      <td>6.9</td>\n",
              "      <td>2014</td>\n",
              "      <td>$709,582,323.00</td>\n",
              "    </tr>\n",
              "    <tr>\n",
              "      <th>...</th>\n",
              "      <td>...</td>\n",
              "      <td>...</td>\n",
              "      <td>...</td>\n",
              "      <td>...</td>\n",
              "      <td>...</td>\n",
              "      <td>...</td>\n",
              "    </tr>\n",
              "    <tr>\n",
              "      <th>392</th>\n",
              "      <td>Columbia Pictures</td>\n",
              "      <td>Funny Lady</td>\n",
              "      <td>Musical</td>\n",
              "      <td>6.4</td>\n",
              "      <td>1975</td>\n",
              "      <td>$39,000,000.00</td>\n",
              "    </tr>\n",
              "    <tr>\n",
              "      <th>394</th>\n",
              "      <td>Walt Disney Productions</td>\n",
              "      <td>The Apple Dumpling Gang</td>\n",
              "      <td>Western</td>\n",
              "      <td>6.2</td>\n",
              "      <td>1975</td>\n",
              "      <td>$36,853,000.00</td>\n",
              "    </tr>\n",
              "    <tr>\n",
              "      <th>395</th>\n",
              "      <td>Universal Pictures</td>\n",
              "      <td>The Other Side of the Mountain</td>\n",
              "      <td>Drama</td>\n",
              "      <td>6.4</td>\n",
              "      <td>1975</td>\n",
              "      <td>$34,673,100.00</td>\n",
              "    </tr>\n",
              "    <tr>\n",
              "      <th>396</th>\n",
              "      <td>United Artists</td>\n",
              "      <td>The Return of the Pink Panther</td>\n",
              "      <td>Mystery</td>\n",
              "      <td>7.1</td>\n",
              "      <td>1975</td>\n",
              "      <td>$41,833,347.00</td>\n",
              "    </tr>\n",
              "    <tr>\n",
              "      <th>398</th>\n",
              "      <td>Touchstone</td>\n",
              "      <td>Signs</td>\n",
              "      <td>Thriller</td>\n",
              "      <td>6.7</td>\n",
              "      <td>2002</td>\n",
              "      <td>$408,247,917.00</td>\n",
              "    </tr>\n",
              "  </tbody>\n",
              "</table>\n",
              "<p>269 rows × 6 columns</p>\n",
              "</div>\n",
              "      <button class=\"colab-df-convert\" onclick=\"convertToInteractive('df-93b91160-be51-49f5-b207-73763aeb814d')\"\n",
              "              title=\"Convert this dataframe to an interactive table.\"\n",
              "              style=\"display:none;\">\n",
              "        \n",
              "  <svg xmlns=\"http://www.w3.org/2000/svg\" height=\"24px\"viewBox=\"0 0 24 24\"\n",
              "       width=\"24px\">\n",
              "    <path d=\"M0 0h24v24H0V0z\" fill=\"none\"/>\n",
              "    <path d=\"M18.56 5.44l.94 2.06.94-2.06 2.06-.94-2.06-.94-.94-2.06-.94 2.06-2.06.94zm-11 1L8.5 8.5l.94-2.06 2.06-.94-2.06-.94L8.5 2.5l-.94 2.06-2.06.94zm10 10l.94 2.06.94-2.06 2.06-.94-2.06-.94-.94-2.06-.94 2.06-2.06.94z\"/><path d=\"M17.41 7.96l-1.37-1.37c-.4-.4-.92-.59-1.43-.59-.52 0-1.04.2-1.43.59L10.3 9.45l-7.72 7.72c-.78.78-.78 2.05 0 2.83L4 21.41c.39.39.9.59 1.41.59.51 0 1.02-.2 1.41-.59l7.78-7.78 2.81-2.81c.8-.78.8-2.07 0-2.86zM5.41 20L4 18.59l7.72-7.72 1.47 1.35L5.41 20z\"/>\n",
              "  </svg>\n",
              "      </button>\n",
              "      \n",
              "  <style>\n",
              "    .colab-df-container {\n",
              "      display:flex;\n",
              "      flex-wrap:wrap;\n",
              "      gap: 12px;\n",
              "    }\n",
              "\n",
              "    .colab-df-convert {\n",
              "      background-color: #E8F0FE;\n",
              "      border: none;\n",
              "      border-radius: 50%;\n",
              "      cursor: pointer;\n",
              "      display: none;\n",
              "      fill: #1967D2;\n",
              "      height: 32px;\n",
              "      padding: 0 0 0 0;\n",
              "      width: 32px;\n",
              "    }\n",
              "\n",
              "    .colab-df-convert:hover {\n",
              "      background-color: #E2EBFA;\n",
              "      box-shadow: 0px 1px 2px rgba(60, 64, 67, 0.3), 0px 1px 3px 1px rgba(60, 64, 67, 0.15);\n",
              "      fill: #174EA6;\n",
              "    }\n",
              "\n",
              "    [theme=dark] .colab-df-convert {\n",
              "      background-color: #3B4455;\n",
              "      fill: #D2E3FC;\n",
              "    }\n",
              "\n",
              "    [theme=dark] .colab-df-convert:hover {\n",
              "      background-color: #434B5C;\n",
              "      box-shadow: 0px 1px 3px 1px rgba(0, 0, 0, 0.15);\n",
              "      filter: drop-shadow(0px 1px 2px rgba(0, 0, 0, 0.3));\n",
              "      fill: #FFFFFF;\n",
              "    }\n",
              "  </style>\n",
              "\n",
              "      <script>\n",
              "        const buttonEl =\n",
              "          document.querySelector('#df-93b91160-be51-49f5-b207-73763aeb814d button.colab-df-convert');\n",
              "        buttonEl.style.display =\n",
              "          google.colab.kernel.accessAllowed ? 'block' : 'none';\n",
              "\n",
              "        async function convertToInteractive(key) {\n",
              "          const element = document.querySelector('#df-93b91160-be51-49f5-b207-73763aeb814d');\n",
              "          const dataTable =\n",
              "            await google.colab.kernel.invokeFunction('convertToInteractive',\n",
              "                                                     [key], {});\n",
              "          if (!dataTable) return;\n",
              "\n",
              "          const docLinkHtml = 'Like what you see? Visit the ' +\n",
              "            '<a target=\"_blank\" href=https://colab.research.google.com/notebooks/data_table.ipynb>data table notebook</a>'\n",
              "            + ' to learn more about interactive tables.';\n",
              "          element.innerHTML = '';\n",
              "          dataTable['output_type'] = 'display_data';\n",
              "          await google.colab.output.renderOutput(dataTable, element);\n",
              "          const docLink = document.createElement('div');\n",
              "          docLink.innerHTML = docLinkHtml;\n",
              "          element.appendChild(docLink);\n",
              "        }\n",
              "      </script>\n",
              "    </div>\n",
              "  </div>\n",
              "  "
            ]
          },
          "metadata": {},
          "execution_count": 25
        }
      ]
    },
    {
      "cell_type": "markdown",
      "source": [
        "**Practica 3**"
      ],
      "metadata": {
        "id": "OOJIJLdSOETN"
      }
    },
    {
      "cell_type": "code",
      "source": [
        "#Se ordena por su clasificación IMDB de manera descendente\n",
        "Ordenar_IMDB = df_final.sort_values('IMDB',ascending=False)\n",
        "Ordenar_IMDB.head(10)\n"
      ],
      "metadata": {
        "colab": {
          "base_uri": "https://localhost:8080/",
          "height": 363
        },
        "id": "QW5vgfaMcd7A",
        "outputId": "fc96da5d-0d84-44f3-cfc6-c696dbb07f34"
      },
      "execution_count": null,
      "outputs": [
        {
          "output_type": "execute_result",
          "data": {
            "text/plain": [
              "                                       Estudio  \\\n",
              "68                    Warner Bros. / Legendary   \n",
              "215  Universal Pictures / Amblin Entertainment   \n",
              "116                                   New Line   \n",
              "346                           20th Century Fox   \n",
              "44                    Warner Bros. / Legendary   \n",
              "197                            New Line Cinema   \n",
              "376               Lucasfilm / 20th Century Fox   \n",
              "167   DreamWorks Pictures / Paramount Pictures   \n",
              "207                       Walt Disney Pictures   \n",
              "290  Universal Pictures / Amblin Entertainment   \n",
              "\n",
              "                                            Titulo     Genero  IMDB   Año  \\\n",
              "68                                 The Dark Knight      Drama   9.0  2008   \n",
              "215                               Schindler's List    History   8.9  1993   \n",
              "116  The Lord of the Rings: The Return of the King    Fantasy   8.9  2003   \n",
              "346   Star Wars Episode V: The Empire Strikes Back  Adventure   8.8  1980   \n",
              "44                                       Inception     Sci-Fi   8.8  2010   \n",
              "197                                          Seven    Mystery   8.7  1995   \n",
              "376                                      Star Wars    Fantasy   8.7  1977   \n",
              "167                            Saving Private Ryan        War   8.6  1998   \n",
              "207                                  The Lion King      Drama   8.5  1994   \n",
              "290                             Back to the Future    Romance   8.5  1985   \n",
              "\n",
              "            Recaudación  \n",
              "68     $997,000,000.00   \n",
              "215    $321,306,305.00   \n",
              "116  $1,119,929,521.00   \n",
              "346    $209,398,025.00   \n",
              "44     $825,531,030.00   \n",
              "197    $327,311,859.00   \n",
              "376    $307,263,857.00   \n",
              "167    $481,840,909.00   \n",
              "207    $768,625,889.00   \n",
              "290    $210,609,762.00   "
            ],
            "text/html": [
              "\n",
              "  <div id=\"df-728971eb-c5e4-40e5-bb32-19310d6cac37\">\n",
              "    <div class=\"colab-df-container\">\n",
              "      <div>\n",
              "<style scoped>\n",
              "    .dataframe tbody tr th:only-of-type {\n",
              "        vertical-align: middle;\n",
              "    }\n",
              "\n",
              "    .dataframe tbody tr th {\n",
              "        vertical-align: top;\n",
              "    }\n",
              "\n",
              "    .dataframe thead th {\n",
              "        text-align: right;\n",
              "    }\n",
              "</style>\n",
              "<table border=\"1\" class=\"dataframe\">\n",
              "  <thead>\n",
              "    <tr style=\"text-align: right;\">\n",
              "      <th></th>\n",
              "      <th>Estudio</th>\n",
              "      <th>Titulo</th>\n",
              "      <th>Genero</th>\n",
              "      <th>IMDB</th>\n",
              "      <th>Año</th>\n",
              "      <th>Recaudación</th>\n",
              "    </tr>\n",
              "  </thead>\n",
              "  <tbody>\n",
              "    <tr>\n",
              "      <th>68</th>\n",
              "      <td>Warner Bros. / Legendary</td>\n",
              "      <td>The Dark Knight</td>\n",
              "      <td>Drama</td>\n",
              "      <td>9.0</td>\n",
              "      <td>2008</td>\n",
              "      <td>$997,000,000.00</td>\n",
              "    </tr>\n",
              "    <tr>\n",
              "      <th>215</th>\n",
              "      <td>Universal Pictures / Amblin Entertainment</td>\n",
              "      <td>Schindler's List</td>\n",
              "      <td>History</td>\n",
              "      <td>8.9</td>\n",
              "      <td>1993</td>\n",
              "      <td>$321,306,305.00</td>\n",
              "    </tr>\n",
              "    <tr>\n",
              "      <th>116</th>\n",
              "      <td>New Line</td>\n",
              "      <td>The Lord of the Rings: The Return of the King</td>\n",
              "      <td>Fantasy</td>\n",
              "      <td>8.9</td>\n",
              "      <td>2003</td>\n",
              "      <td>$1,119,929,521.00</td>\n",
              "    </tr>\n",
              "    <tr>\n",
              "      <th>346</th>\n",
              "      <td>20th Century Fox</td>\n",
              "      <td>Star Wars Episode V: The Empire Strikes Back</td>\n",
              "      <td>Adventure</td>\n",
              "      <td>8.8</td>\n",
              "      <td>1980</td>\n",
              "      <td>$209,398,025.00</td>\n",
              "    </tr>\n",
              "    <tr>\n",
              "      <th>44</th>\n",
              "      <td>Warner Bros. / Legendary</td>\n",
              "      <td>Inception</td>\n",
              "      <td>Sci-Fi</td>\n",
              "      <td>8.8</td>\n",
              "      <td>2010</td>\n",
              "      <td>$825,531,030.00</td>\n",
              "    </tr>\n",
              "    <tr>\n",
              "      <th>197</th>\n",
              "      <td>New Line Cinema</td>\n",
              "      <td>Seven</td>\n",
              "      <td>Mystery</td>\n",
              "      <td>8.7</td>\n",
              "      <td>1995</td>\n",
              "      <td>$327,311,859.00</td>\n",
              "    </tr>\n",
              "    <tr>\n",
              "      <th>376</th>\n",
              "      <td>Lucasfilm / 20th Century Fox</td>\n",
              "      <td>Star Wars</td>\n",
              "      <td>Fantasy</td>\n",
              "      <td>8.7</td>\n",
              "      <td>1977</td>\n",
              "      <td>$307,263,857.00</td>\n",
              "    </tr>\n",
              "    <tr>\n",
              "      <th>167</th>\n",
              "      <td>DreamWorks Pictures / Paramount Pictures</td>\n",
              "      <td>Saving Private Ryan</td>\n",
              "      <td>War</td>\n",
              "      <td>8.6</td>\n",
              "      <td>1998</td>\n",
              "      <td>$481,840,909.00</td>\n",
              "    </tr>\n",
              "    <tr>\n",
              "      <th>207</th>\n",
              "      <td>Walt Disney Pictures</td>\n",
              "      <td>The Lion King</td>\n",
              "      <td>Drama</td>\n",
              "      <td>8.5</td>\n",
              "      <td>1994</td>\n",
              "      <td>$768,625,889.00</td>\n",
              "    </tr>\n",
              "    <tr>\n",
              "      <th>290</th>\n",
              "      <td>Universal Pictures / Amblin Entertainment</td>\n",
              "      <td>Back to the Future</td>\n",
              "      <td>Romance</td>\n",
              "      <td>8.5</td>\n",
              "      <td>1985</td>\n",
              "      <td>$210,609,762.00</td>\n",
              "    </tr>\n",
              "  </tbody>\n",
              "</table>\n",
              "</div>\n",
              "      <button class=\"colab-df-convert\" onclick=\"convertToInteractive('df-728971eb-c5e4-40e5-bb32-19310d6cac37')\"\n",
              "              title=\"Convert this dataframe to an interactive table.\"\n",
              "              style=\"display:none;\">\n",
              "        \n",
              "  <svg xmlns=\"http://www.w3.org/2000/svg\" height=\"24px\"viewBox=\"0 0 24 24\"\n",
              "       width=\"24px\">\n",
              "    <path d=\"M0 0h24v24H0V0z\" fill=\"none\"/>\n",
              "    <path d=\"M18.56 5.44l.94 2.06.94-2.06 2.06-.94-2.06-.94-.94-2.06-.94 2.06-2.06.94zm-11 1L8.5 8.5l.94-2.06 2.06-.94-2.06-.94L8.5 2.5l-.94 2.06-2.06.94zm10 10l.94 2.06.94-2.06 2.06-.94-2.06-.94-.94-2.06-.94 2.06-2.06.94z\"/><path d=\"M17.41 7.96l-1.37-1.37c-.4-.4-.92-.59-1.43-.59-.52 0-1.04.2-1.43.59L10.3 9.45l-7.72 7.72c-.78.78-.78 2.05 0 2.83L4 21.41c.39.39.9.59 1.41.59.51 0 1.02-.2 1.41-.59l7.78-7.78 2.81-2.81c.8-.78.8-2.07 0-2.86zM5.41 20L4 18.59l7.72-7.72 1.47 1.35L5.41 20z\"/>\n",
              "  </svg>\n",
              "      </button>\n",
              "      \n",
              "  <style>\n",
              "    .colab-df-container {\n",
              "      display:flex;\n",
              "      flex-wrap:wrap;\n",
              "      gap: 12px;\n",
              "    }\n",
              "\n",
              "    .colab-df-convert {\n",
              "      background-color: #E8F0FE;\n",
              "      border: none;\n",
              "      border-radius: 50%;\n",
              "      cursor: pointer;\n",
              "      display: none;\n",
              "      fill: #1967D2;\n",
              "      height: 32px;\n",
              "      padding: 0 0 0 0;\n",
              "      width: 32px;\n",
              "    }\n",
              "\n",
              "    .colab-df-convert:hover {\n",
              "      background-color: #E2EBFA;\n",
              "      box-shadow: 0px 1px 2px rgba(60, 64, 67, 0.3), 0px 1px 3px 1px rgba(60, 64, 67, 0.15);\n",
              "      fill: #174EA6;\n",
              "    }\n",
              "\n",
              "    [theme=dark] .colab-df-convert {\n",
              "      background-color: #3B4455;\n",
              "      fill: #D2E3FC;\n",
              "    }\n",
              "\n",
              "    [theme=dark] .colab-df-convert:hover {\n",
              "      background-color: #434B5C;\n",
              "      box-shadow: 0px 1px 3px 1px rgba(0, 0, 0, 0.15);\n",
              "      filter: drop-shadow(0px 1px 2px rgba(0, 0, 0, 0.3));\n",
              "      fill: #FFFFFF;\n",
              "    }\n",
              "  </style>\n",
              "\n",
              "      <script>\n",
              "        const buttonEl =\n",
              "          document.querySelector('#df-728971eb-c5e4-40e5-bb32-19310d6cac37 button.colab-df-convert');\n",
              "        buttonEl.style.display =\n",
              "          google.colab.kernel.accessAllowed ? 'block' : 'none';\n",
              "\n",
              "        async function convertToInteractive(key) {\n",
              "          const element = document.querySelector('#df-728971eb-c5e4-40e5-bb32-19310d6cac37');\n",
              "          const dataTable =\n",
              "            await google.colab.kernel.invokeFunction('convertToInteractive',\n",
              "                                                     [key], {});\n",
              "          if (!dataTable) return;\n",
              "\n",
              "          const docLinkHtml = 'Like what you see? Visit the ' +\n",
              "            '<a target=\"_blank\" href=https://colab.research.google.com/notebooks/data_table.ipynb>data table notebook</a>'\n",
              "            + ' to learn more about interactive tables.';\n",
              "          element.innerHTML = '';\n",
              "          dataTable['output_type'] = 'display_data';\n",
              "          await google.colab.output.renderOutput(dataTable, element);\n",
              "          const docLink = document.createElement('div');\n",
              "          docLink.innerHTML = docLinkHtml;\n",
              "          element.appendChild(docLink);\n",
              "        }\n",
              "      </script>\n",
              "    </div>\n",
              "  </div>\n",
              "  "
            ]
          },
          "metadata": {},
          "execution_count": 26
        }
      ]
    },
    {
      "cell_type": "code",
      "source": [
        "#Operaciones para conocer la máxima calificación y la minima calificación de IMDB\n",
        "Clasificacion_peliculas  = df_final['IMDB']\n",
        "maximo = max(Clasificacion_peliculas)\n",
        "minimo = min(Clasificacion_peliculas)\n",
        "print('La máxima calificación de IMDB es: ', maximo)\n",
        "print('La minima calificación de IMDB es: ', minimo)"
      ],
      "metadata": {
        "colab": {
          "base_uri": "https://localhost:8080/"
        },
        "id": "rFUoCmAOlKNF",
        "outputId": "f26dfffe-ad69-4592-9342-5bd7bbb25037"
      },
      "execution_count": null,
      "outputs": [
        {
          "output_type": "stream",
          "name": "stdout",
          "text": [
            "La máxima calificación de IMDB es:  9.0\n",
            "La minima calificación de IMDB es:  4.4\n"
          ]
        }
      ]
    },
    {
      "cell_type": "code",
      "source": [
        "#Obteniendo la media de calificaciones IMDB de las peliculas\n",
        "Media_IMDB = df[\"IMDB\"].mean()\n",
        "#Obteniendo la mediana de calificaciones IMDB de las peliculas\n",
        "Mediana_IMDB = df[\"IMDB\"].median()\n",
        "#Obteniendo la moda de calificaciones IMDB de las peliculas\n",
        "Moda_IMDB = df[\"IMDB\"].mode()\n",
        "#Obteniendo la cantidad de calificaciones IMDB de las peliculas\n",
        "Cantidad_IMDB = df_final[\"IMDB\"].count()\n",
        "#Obteniendo la suma de calificaciones IMDB de las peliculas\n",
        "Suma_IMDB = df_final[\"IMDB\"].sum()\n",
        "#Obteniendo la kurtosisde calificaciones IMDB de las peliculas\n",
        "IMDB_kurtosis=df_final[\"IMDB\"].kurtosis()\n",
        "#Obteniendo la varianza de calificaciones IMDB de las peliculas\n",
        "IMDB_varianza=df_final[\"IMDB\"].var()\n",
        "#Obteniendo la desviación de calificaciones IMDB de las peliculas\n",
        "IMDB_desviación=df_final[\"IMDB\"].std()\n",
        "#Imprimos los resultados\n",
        "print('Media: ',Media_IMDB)\n",
        "print('Mediana: ',Mediana_IMDB)\n",
        "print('Moda: ',Moda_IMDB)\n",
        "print('Cantidad de calificaciones: ',Cantidad_IMDB)\n",
        "print('Suma de calificaciones: ',Suma_IMDB)\n",
        "print('Kurtosis: ',IMDB_kurtosis)\n",
        "print('Varianza: ',IMDB_varianza)\n",
        "print('Desviación: ',IMDB_desviación)"
      ],
      "metadata": {
        "colab": {
          "base_uri": "https://localhost:8080/"
        },
        "id": "aa-p-4bgmOrU",
        "outputId": "7992a5ce-b012-45a4-8191-d4cb47b3c1ff"
      },
      "execution_count": null,
      "outputs": [
        {
          "output_type": "stream",
          "name": "stdout",
          "text": [
            "Media:  6.989219330855021\n",
            "Mediana:  6.9\n",
            "Moda:  0    7.2\n",
            "dtype: float64\n",
            "Cantidad de calificaciones:  269\n",
            "Suma de calificaciones:  1880.1000000000001\n",
            "Kurtosis:  0.11911998201941998\n",
            "Varianza:  0.6936520002219397\n",
            "Desviación:  0.8328577310813292\n"
          ]
        }
      ]
    },
    {
      "cell_type": "code",
      "source": [
        "#Comprobamos que se haya eliminado el $ y los decimales \n",
        "df_final.head(10)\n",
        "#Se realiza la suma para comprobar cual es el estudio que mas vendio\n",
        "\n"
      ],
      "metadata": {
        "colab": {
          "base_uri": "https://localhost:8080/"
        },
        "id": "UuHRMViJS_f6",
        "outputId": "527feceb-c6af-499f-f61c-0e53a962e7d9"
      },
      "execution_count": null,
      "outputs": [
        {
          "output_type": "execute_result",
          "data": {
            "text/plain": [
              "pandas.core.frame.DataFrame"
            ]
          },
          "metadata": {},
          "execution_count": 31
        }
      ]
    },
    {
      "cell_type": "code",
      "source": [
        "#Comprobación tipo de datos \n",
        "type(df_final)"
      ],
      "metadata": {
        "colab": {
          "base_uri": "https://localhost:8080/"
        },
        "id": "U5_BVinbyjwv",
        "outputId": "879b763e-f816-4be3-ea12-e011abc51bbe"
      },
      "execution_count": null,
      "outputs": [
        {
          "output_type": "execute_result",
          "data": {
            "text/plain": [
              "pandas.core.frame.DataFrame"
            ]
          },
          "metadata": {},
          "execution_count": 32
        }
      ]
    },
    {
      "cell_type": "code",
      "source": [
        "#Limpiando y convirtiendo objecto a int de las Recaudaciones\n",
        "df_final['Recaudación'] = pd.to_numeric(df_final['Recaudación'].str.replace(r\"[^\\d]\", \"\"))"
      ],
      "metadata": {
        "id": "r2VJKhPWa_-1",
        "outputId": "e20d6e70-2fbe-4020-87b8-87f46ad4fc5d",
        "colab": {
          "base_uri": "https://localhost:8080/"
        }
      },
      "execution_count": null,
      "outputs": [
        {
          "output_type": "stream",
          "name": "stderr",
          "text": [
            "/usr/local/lib/python3.7/dist-packages/ipykernel_launcher.py:2: FutureWarning: The default value of regex will change from True to False in a future version.\n",
            "  \n"
          ]
        }
      ]
    },
    {
      "cell_type": "markdown",
      "source": [
        "**Practica 4**"
      ],
      "metadata": {
        "id": "J2EhJNhDOM9i"
      }
    },
    {
      "cell_type": "code",
      "source": [
        "\n",
        "#Creamos un nuevo DataFrame con las mayores ventas por estudio\n",
        "Ventas_Estudio = pd.DataFrame.from_dict(df_final.groupby('Estudio')['Recaudación'].sum())\n",
        "#Ordenamos el estudio con mayor ventas\n",
        "Ordenar_Recaudación = Ventas_Estudio.sort_values('Recaudación',ascending=False)\n",
        "print(Ordenar_Recaudación)\n",
        "\n",
        "#Graficamos para ver las calificaciones\n",
        "\n",
        "eje_x = df_final['IMDB']\n",
        " \n",
        "eje_y = df_final['Genero']\n",
        "\n",
        "plt.bar(eje_x, eje_y)\n",
        " \n",
        "## Legenda en el eje y\n",
        "plt.ylabel('Genero')\n",
        " \n",
        "## Legenda en el eje x\n",
        "plt.xlabel('IMDB')\n",
        " \n",
        "## Título de Gráfica\n",
        "plt.title('Genero con su califiación IMDB')\n",
        " \n",
        "## Mostramos Gráfica\n",
        "plt.show()\n"
      ],
      "metadata": {
        "colab": {
          "base_uri": "https://localhost:8080/",
          "height": 555
        },
        "id": "vOdsHNTJcRs8",
        "outputId": "a7c80dc9-2f52-4df5-c0d4-446d53faa02b"
      },
      "execution_count": null,
      "outputs": [
        {
          "output_type": "stream",
          "name": "stdout",
          "text": [
            "                                                      Recaudación\n",
            "Estudio                                                          \n",
            "Warner Bros.                                        1408260014000\n",
            "Walt Disney Pictures                                 788009436000\n",
            "Fox                                                  555829843500\n",
            "20th Century Fox                                     545353198000\n",
            "Paramount / DreamWorks                               532378732800\n",
            "...                                                           ...\n",
            "Columbia Pictures / Rastar                             5705900300\n",
            "20th Century-Fox Film Corporation                      5107906400\n",
            "Universal Studios / Cinema International Corpor...     4322000000\n",
            "Embassy Pictures                                       4236558100\n",
            "Walt Disney Productions                                3685300000\n",
            "\n",
            "[75 rows x 1 columns]\n"
          ]
        },
        {
          "output_type": "display_data",
          "data": {
            "text/plain": [
              "<Figure size 432x288 with 1 Axes>"
            ],
            "image/png": "[encoded data removed]"
          },
          "metadata": {
            "needs_background": "light"
          }
        }
      ]
    },
    {
      "cell_type": "markdown",
      "source": [
        "**Practica 5**"
      ],
      "metadata": {
        "id": "CUvObdD_Oc4E"
      }
    },
    {
      "cell_type": "code",
      "source": [
        "import plotly.graph_objects as plo\n",
        "import seaborn as sns; sns.set()\n",
        "from scipy import stats\n",
        "#Relizando Prueba Hipotesis\n",
        "df_final.Genero.unique()\n",
        "stats.ttest_ind(df_final.IMDB.loc[df_final.Genero=='Fantasy'],\n",
        "                df_final.IMDB.loc[df_final.Genero=='Mystery'],equal_var=True)"
      ],
      "metadata": {
        "colab": {
          "base_uri": "https://localhost:8080/"
        },
        "id": "6ndH9msHvm6R",
        "outputId": "c0e7478f-07f9-459b-e9dd-190f90840ade"
      },
      "execution_count": null,
      "outputs": [
        {
          "output_type": "execute_result",
          "data": {
            "text/plain": [
              "Ttest_indResult(statistic=-0.8326675841324358, pvalue=0.4089919509520341)"
            ]
          },
          "metadata": {},
          "execution_count": 69
        }
      ]
    },
    {
      "cell_type": "markdown",
      "source": [
        "**Postdata:** Como Pvalue es inferior al 5% no se puede decir la igualdad de medias"
      ],
      "metadata": {
        "id": "-jCViGUi31Dd"
      }
    },
    {
      "cell_type": "code",
      "source": [
        "grafica = plo.Figure()\n",
        "grafica.add_trace(plo.Box(y=df_final.loc[df_final.Genero=='Fantasy'],name='Fantasia'))\n",
        "grafica.add_trace(plo.Box(y=df_final.loc[df_final.Genero=='Mystery'],name='Misterio'))\n",
        "grafica.update_layout(\n",
        "    title = {\n",
        "        'text': \"Recaudación por Genero\",\n",
        "        'y': 0.9,\n",
        "        'x': 0.5,\n",
        "        'xanchor': 'center',\n",
        "        'yanchor': 'top'})\n",
        "\n",
        "grafica.show()\n"
      ],
      "metadata": {
        "colab": {
          "base_uri": "https://localhost:8080/",
          "height": 542
        },
        "id": "zwaMZnsM4kU1",
        "outputId": "9a1fdf66-f409-456b-a8d4-5f990933900b"
      },
      "execution_count": null,
      "outputs": [
        {
          "output_type": "display_data",
          "data": {
            "text/html": [
              "<html>\n",
              "<head><meta charset=\"utf-8\" /></head>\n",
              "<body>\n",
              "    <div>            <script src=\"https://cdnjs.cloudflare.com/ajax/libs/mathjax/2.7.5/MathJax.js?config=TeX-AMS-MML_SVG\"></script><script type=\"text/javascript\">if (window.MathJax) {MathJax.Hub.Config({SVG: {font: \"STIX-Web\"}});}</script>                <script type=\"text/javascript\">window.PlotlyConfig = {MathJaxConfig: 'local'};</script>\n",
              "        <script src=\"https://cdn.plot.ly/plotly-2.8.3.min.js\"></script>                <div id=\"ccf06fe6-1048-4b26-94d6-52283ca8fe52\" class=\"plotly-graph-div\" style=\"height:525px; width:100%;\"></div>            <script type=\"text/javascript\">                                    window.PLOTLYENV=window.PLOTLYENV || {};                                    if (document.getElementById(\"ccf06fe6-1048-4b26-94d6-52283ca8fe52\")) {                    Plotly.newPlot(                        \"ccf06fe6-1048-4b26-94d6-52283ca8fe52\",                        [{\"name\":\"Fantasia\",\"y\":[[\"Columbia Pictures\",\"The Amazing Spider-Man 2\",\"Fantasy\",6.9,2014,70958232300],[\"Warner Bros. / Legendary\",\"Man of Steel\",\"Fantasy\",7.2,2013,66804551800],[\"Marvel Studios\",\"Thor: The Dark World\",\"Fantasy\",7.1,2013,64478314000],[\"Columbia\",\"The Amazing Spider-Man\",\"Fantasy\",7.1,2012,75793066300],[\"Lionsgate / Summit\",\"The Twilight Saga: Breaking Dawn - Part 2\",\"Fantasy\",5.6,2012,82968537700],[\"Walt Disney Pictures\",\"Pirates of the Caribbean: On Stranger Tides\",\"Fantasy\",6.7,2011,104571380200],[\"Summit\",\"The Twilight Saga: Breaking Dawn - Part 1\",\"Fantasy\",4.9,2011,71217185600],[\"Walt Disney Pictures\",\"Alice in Wonderland\",\"Fantasy\",6.5,2010,102546711000],[\"Warner Bros.\",\"Harry Potter and the Deathly Hallows - Part 1\",\"Fantasy\",7.7,2010,96028330500],[\"Summit Entertainment\",\"The Twilight Saga: Eclipse\",\"Fantasy\",4.9,2010,69849134700],[\"Fox\",\"Avatar\",\"Fantasy\",7.9,2009,274906432800],[\"Warner Bros.\",\"Harry Potter and the Half-Blood Prince\",\"Fantasy\",7.5,2009,93441648700],[\"Summit\",\"The Twilight Saga: New Moon\",\"Fantasy\",4.6,2009,70982746200],[\"Warner Bros.\",\"Harry Potter and the Order of the Phoenix\",\"Fantasy\",7.4,2007,93988592900],[\"Disney\",\"Pirates of the Caribbean: At World's End\",\"Fantasy\",7.1,2007,96342042500],[\"Disney\",\"Pirates of the Caribbean: Dead Man's Chest\",\"Fantasy\",7.3,2006,106617972500],[\"Warner Bros. / Village Roadshow\",\"Superman Returns\",\"Fantasy\",6.1,2006,39108119200],[\"Warner Bros.\",\"Harry Potter and the Goblet of Fire\",\"Fantasy\",7.6,2005,89592103600],[\"20th Century Fox / Lucasfilm\",\"Star Wars Episode III: Revenge of the Sith\",\"Fantasy\",7.7,2005,84875476800],[\"Disney\",\"The Chronicles of Narnia: The Lion, the Witch and the Wardrobe\",\"Fantasy\",6.9,2005,74501127200],[\"Warner Bros.\",\"Harry Potter and the Prisoner of Azkaban\",\"Fantasy\",7.8,2004,79563406900],[\"Universal\",\"Bruce Almighty\",\"Fantasy\",6.7,2003,48459287400],[\"New Line\",\"The Lord of the Rings: The Return of the King\",\"Fantasy\",8.9,2003,111992952100],[\"Warner Bros.\",\"Harry Potter and the Chamber of Secrets\",\"Fantasy\",7.3,2002,87864348200],[\"Columbia\",\"Men in Black II\",\"Fantasy\",6.0,2002,44181880300],[\"20th Century Fox / Lucasfilm\",\"Star Wars Episode II: Attack of the Clones\",\"Fantasy\",6.7,2002,64939832800],[\"Warner Bros.\",\"Harry Potter and the Sorcerer's Stone\",\"Fantasy\",7.5,2001,97473355000],[\"Universal\",\"The Mummy Returns\",\"Fantasy\",6.3,2001,43301327400],[\"Universal\",\"How the Grinch Stole Christmas\",\"Fantasy\",6.0,2000,34514140300],[\"20th Century Fox / Lucasfilm\",\"Star Wars Episode I: The Phantom Menace\",\"Fantasy\",6.6,1999,92431755800],[\"Universal Pictures\",\"The Mummy\",\"Fantasy\",7.0,1999,41593340600],[\"20th Century Fox\",\"Dr. Dolittle\",\"Fantasy\",5.3,1998,29445660500],[\"Warner Bros. / PolyGram\",\"Batman Forever\",\"Fantasy\",5.4,1995,33652914400],[\"Universal Pictures\",\"Casper\",\"Fantasy\",6.0,1995,28792819400],[\"TriStar Pictures\",\"Jumanji\",\"Fantasy\",6.8,1995,26279724900],[\"Universal Pictures / Amblin Entertainment\",\"The Flintstones\",\"Fantasy\",4.8,1994,34163120800],[\"New Line Cinema\",\"The Mask\",\"Fantasy\",6.8,1994,35158340700],[\"Walt Disney Pictures\",\"Beauty and the Beast\",\"Fantasy\",8.0,1991,35186336300],[\"Walt Disney Pictures\",\"The Little Mermaid\",\"Fantasy\",7.6,1989,18415586300],[\"20th Century Fox / Gracie Films\",\"Big\",\"Fantasy\",7.3,1988,11496877400],[\"Lucasfilm / 20th Century Fox\",\"Star Wars Episode VI: Return of the Jedi\",\"Fantasy\",8.4,1983,25258361700],[\"Embassy Pictures\",\"Time Bandits\",\"Fantasy\",7.0,1981,4236558100],[\"Lucasfilm / 20th Century Fox\",\"Star Wars\",\"Fantasy\",8.7,1977,30726385700]],\"type\":\"box\"},{\"name\":\"Misterio\",\"y\":[[\"Warner Bros.\",\"Harry Potter and the Deathly Hallows - Part 2\",\"Mystery\",8.1,2011,134151121900],[\"Disney\",\"National Treasure: Book of Secrets\",\"Mystery\",6.5,2007,45736460000],[\"DreamWorks / Fox\",\"What Lies Beneath\",\"Mystery\",6.6,2000,29142035100],[\"Warner Bros.\",\"Eraser\",\"Mystery\",6.0,1996,24229556200],[\"New Line Cinema\",\"Seven\",\"Mystery\",8.7,1995,32731185900],[\"Warner Bros.\",\"Presumed Innocent\",\"Mystery\",6.9,1990,22130318800],[\"United Artists\",\"Revenge of the Pink Panther\",\"Mystery\",6.7,1978,4957926900],[\"20th Century Fox Film Corporation\",\"The Omen\",\"Mystery\",7.6,1976,6092298000],[\"United Artists\",\"The Return of the Pink Panther\",\"Mystery\",7.1,1975,4183334700]],\"type\":\"box\"}],                        {\"template\":{\"data\":{\"bar\":[{\"error_x\":{\"color\":\"#2a3f5f\"},\"error_y\":{\"color\":\"#2a3f5f\"},\"marker\":{\"line\":{\"color\":\"#E5ECF6\",\"width\":0.5},\"pattern\":{\"fillmode\":\"overlay\",\"size\":10,\"solidity\":0.2}},\"type\":\"bar\"}],\"barpolar\":[{\"marker\":{\"line\":{\"color\":\"#E5ECF6\",\"width\":0.5},\"pattern\":{\"fillmode\":\"overlay\",\"size\":10,\"solidity\":0.2}},\"type\":\"barpolar\"}],\"carpet\":[{\"aaxis\":{\"endlinecolor\":\"#2a3f5f\",\"gridcolor\":\"white\",\"linecolor\":\"white\",\"minorgridcolor\":\"white\",\"startlinecolor\":\"#2a3f5f\"},\"baxis\":{\"endlinecolor\":\"#2a3f5f\",\"gridcolor\":\"white\",\"linecolor\":\"white\",\"minorgridcolor\":\"white\",\"startlinecolor\":\"#2a3f5f\"},\"type\":\"carpet\"}],\"choropleth\":[{\"colorbar\":{\"outlinewidth\":0,\"ticks\":\"\"},\"type\":\"choropleth\"}],\"contour\":[{\"colorbar\":{\"outlinewidth\":0,\"ticks\":\"\"},\"colorscale\":[[0.0,\"#0d0887\"],[0.1111111111111111,\"#46039f\"],[0.2222222222222222,\"#7201a8\"],[0.3333333333333333,\"#9c179e\"],[0.4444444444444444,\"#bd3786\"],[0.5555555555555556,\"#d8576b\"],[0.6666666666666666,\"#ed7953\"],[0.7777777777777778,\"#fb9f3a\"],[0.8888888888888888,\"#fdca26\"],[1.0,\"#f0f921\"]],\"type\":\"contour\"}],\"contourcarpet\":[{\"colorbar\":{\"outlinewidth\":0,\"ticks\":\"\"},\"type\":\"contourcarpet\"}],\"heatmap\":[{\"colorbar\":{\"outlinewidth\":0,\"ticks\":\"\"},\"colorscale\":[[0.0,\"#0d0887\"],[0.1111111111111111,\"#46039f\"],[0.2222222222222222,\"#7201a8\"],[0.3333333333333333,\"#9c179e\"],[0.4444444444444444,\"#bd3786\"],[0.5555555555555556,\"#d8576b\"],[0.6666666666666666,\"#ed7953\"],[0.7777777777777778,\"#fb9f3a\"],[0.8888888888888888,\"#fdca26\"],[1.0,\"#f0f921\"]],\"type\":\"heatmap\"}],\"heatmapgl\":[{\"colorbar\":{\"outlinewidth\":0,\"ticks\":\"\"},\"colorscale\":[[0.0,\"#0d0887\"],[0.1111111111111111,\"#46039f\"],[0.2222222222222222,\"#7201a8\"],[0.3333333333333333,\"#9c179e\"],[0.4444444444444444,\"#bd3786\"],[0.5555555555555556,\"#d8576b\"],[0.6666666666666666,\"#ed7953\"],[0.7777777777777778,\"#fb9f3a\"],[0.8888888888888888,\"#fdca26\"],[1.0,\"#f0f921\"]],\"type\":\"heatmapgl\"}],\"histogram\":[{\"marker\":{\"pattern\":{\"fillmode\":\"overlay\",\"size\":10,\"solidity\":0.2}},\"type\":\"histogram\"}],\"histogram2d\":[{\"colorbar\":{\"outlinewidth\":0,\"ticks\":\"\"},\"colorscale\":[[0.0,\"#0d0887\"],[0.1111111111111111,\"#46039f\"],[0.2222222222222222,\"#7201a8\"],[0.3333333333333333,\"#9c179e\"],[0.4444444444444444,\"#bd3786\"],[0.5555555555555556,\"#d8576b\"],[0.6666666666666666,\"#ed7953\"],[0.7777777777777778,\"#fb9f3a\"],[0.8888888888888888,\"#fdca26\"],[1.0,\"#f0f921\"]],\"type\":\"histogram2d\"}],\"histogram2dcontour\":[{\"colorbar\":{\"outlinewidth\":0,\"ticks\":\"\"},\"colorscale\":[[0.0,\"#0d0887\"],[0.1111111111111111,\"#46039f\"],[0.2222222222222222,\"#7201a8\"],[0.3333333333333333,\"#9c179e\"],[0.4444444444444444,\"#bd3786\"],[0.5555555555555556,\"#d8576b\"],[0.6666666666666666,\"#ed7953\"],[0.7777777777777778,\"#fb9f3a\"],[0.8888888888888888,\"#fdca26\"],[1.0,\"#f0f921\"]],\"type\":\"histogram2dcontour\"}],\"mesh3d\":[{\"colorbar\":{\"outlinewidth\":0,\"ticks\":\"\"},\"type\":\"mesh3d\"}],\"parcoords\":[{\"line\":{\"colorbar\":{\"outlinewidth\":0,\"ticks\":\"\"}},\"type\":\"parcoords\"}],\"pie\":[{\"automargin\":true,\"type\":\"pie\"}],\"scatter\":[{\"marker\":{\"colorbar\":{\"outlinewidth\":0,\"ticks\":\"\"}},\"type\":\"scatter\"}],\"scatter3d\":[{\"line\":{\"colorbar\":{\"outlinewidth\":0,\"ticks\":\"\"}},\"marker\":{\"colorbar\":{\"outlinewidth\":0,\"ticks\":\"\"}},\"type\":\"scatter3d\"}],\"scattercarpet\":[{\"marker\":{\"colorbar\":{\"outlinewidth\":0,\"ticks\":\"\"}},\"type\":\"scattercarpet\"}],\"scattergeo\":[{\"marker\":{\"colorbar\":{\"outlinewidth\":0,\"ticks\":\"\"}},\"type\":\"scattergeo\"}],\"scattergl\":[{\"marker\":{\"colorbar\":{\"outlinewidth\":0,\"ticks\":\"\"}},\"type\":\"scattergl\"}],\"scattermapbox\":[{\"marker\":{\"colorbar\":{\"outlinewidth\":0,\"ticks\":\"\"}},\"type\":\"scattermapbox\"}],\"scatterpolar\":[{\"marker\":{\"colorbar\":{\"outlinewidth\":0,\"ticks\":\"\"}},\"type\":\"scatterpolar\"}],\"scatterpolargl\":[{\"marker\":{\"colorbar\":{\"outlinewidth\":0,\"ticks\":\"\"}},\"type\":\"scatterpolargl\"}],\"scatterternary\":[{\"marker\":{\"colorbar\":{\"outlinewidth\":0,\"ticks\":\"\"}},\"type\":\"scatterternary\"}],\"surface\":[{\"colorbar\":{\"outlinewidth\":0,\"ticks\":\"\"},\"colorscale\":[[0.0,\"#0d0887\"],[0.1111111111111111,\"#46039f\"],[0.2222222222222222,\"#7201a8\"],[0.3333333333333333,\"#9c179e\"],[0.4444444444444444,\"#bd3786\"],[0.5555555555555556,\"#d8576b\"],[0.6666666666666666,\"#ed7953\"],[0.7777777777777778,\"#fb9f3a\"],[0.8888888888888888,\"#fdca26\"],[1.0,\"#f0f921\"]],\"type\":\"surface\"}],\"table\":[{\"cells\":{\"fill\":{\"color\":\"#EBF0F8\"},\"line\":{\"color\":\"white\"}},\"header\":{\"fill\":{\"color\":\"#C8D4E3\"},\"line\":{\"color\":\"white\"}},\"type\":\"table\"}]},\"layout\":{\"annotationdefaults\":{\"arrowcolor\":\"#2a3f5f\",\"arrowhead\":0,\"arrowwidth\":1},\"autotypenumbers\":\"strict\",\"coloraxis\":{\"colorbar\":{\"outlinewidth\":0,\"ticks\":\"\"}},\"colorscale\":{\"diverging\":[[0,\"#8e0152\"],[0.1,\"#c51b7d\"],[0.2,\"#de77ae\"],[0.3,\"#f1b6da\"],[0.4,\"#fde0ef\"],[0.5,\"#f7f7f7\"],[0.6,\"#e6f5d0\"],[0.7,\"#b8e186\"],[0.8,\"#7fbc41\"],[0.9,\"#4d9221\"],[1,\"#276419\"]],\"sequential\":[[0.0,\"#0d0887\"],[0.1111111111111111,\"#46039f\"],[0.2222222222222222,\"#7201a8\"],[0.3333333333333333,\"#9c179e\"],[0.4444444444444444,\"#bd3786\"],[0.5555555555555556,\"#d8576b\"],[0.6666666666666666,\"#ed7953\"],[0.7777777777777778,\"#fb9f3a\"],[0.8888888888888888,\"#fdca26\"],[1.0,\"#f0f921\"]],\"sequentialminus\":[[0.0,\"#0d0887\"],[0.1111111111111111,\"#46039f\"],[0.2222222222222222,\"#7201a8\"],[0.3333333333333333,\"#9c179e\"],[0.4444444444444444,\"#bd3786\"],[0.5555555555555556,\"#d8576b\"],[0.6666666666666666,\"#ed7953\"],[0.7777777777777778,\"#fb9f3a\"],[0.8888888888888888,\"#fdca26\"],[1.0,\"#f0f921\"]]},\"colorway\":[\"#636efa\",\"#EF553B\",\"#00cc96\",\"#ab63fa\",\"#FFA15A\",\"#19d3f3\",\"#FF6692\",\"#B6E880\",\"#FF97FF\",\"#FECB52\"],\"font\":{\"color\":\"#2a3f5f\"},\"geo\":{\"bgcolor\":\"white\",\"lakecolor\":\"white\",\"landcolor\":\"#E5ECF6\",\"showlakes\":true,\"showland\":true,\"subunitcolor\":\"white\"},\"hoverlabel\":{\"align\":\"left\"},\"hovermode\":\"closest\",\"mapbox\":{\"style\":\"light\"},\"paper_bgcolor\":\"white\",\"plot_bgcolor\":\"#E5ECF6\",\"polar\":{\"angularaxis\":{\"gridcolor\":\"white\",\"linecolor\":\"white\",\"ticks\":\"\"},\"bgcolor\":\"#E5ECF6\",\"radialaxis\":{\"gridcolor\":\"white\",\"linecolor\":\"white\",\"ticks\":\"\"}},\"scene\":{\"xaxis\":{\"backgroundcolor\":\"#E5ECF6\",\"gridcolor\":\"white\",\"gridwidth\":2,\"linecolor\":\"white\",\"showbackground\":true,\"ticks\":\"\",\"zerolinecolor\":\"white\"},\"yaxis\":{\"backgroundcolor\":\"#E5ECF6\",\"gridcolor\":\"white\",\"gridwidth\":2,\"linecolor\":\"white\",\"showbackground\":true,\"ticks\":\"\",\"zerolinecolor\":\"white\"},\"zaxis\":{\"backgroundcolor\":\"#E5ECF6\",\"gridcolor\":\"white\",\"gridwidth\":2,\"linecolor\":\"white\",\"showbackground\":true,\"ticks\":\"\",\"zerolinecolor\":\"white\"}},\"shapedefaults\":{\"line\":{\"color\":\"#2a3f5f\"}},\"ternary\":{\"aaxis\":{\"gridcolor\":\"white\",\"linecolor\":\"white\",\"ticks\":\"\"},\"baxis\":{\"gridcolor\":\"white\",\"linecolor\":\"white\",\"ticks\":\"\"},\"bgcolor\":\"#E5ECF6\",\"caxis\":{\"gridcolor\":\"white\",\"linecolor\":\"white\",\"ticks\":\"\"}},\"title\":{\"x\":0.05},\"xaxis\":{\"automargin\":true,\"gridcolor\":\"white\",\"linecolor\":\"white\",\"ticks\":\"\",\"title\":{\"standoff\":15},\"zerolinecolor\":\"white\",\"zerolinewidth\":2},\"yaxis\":{\"automargin\":true,\"gridcolor\":\"white\",\"linecolor\":\"white\",\"ticks\":\"\",\"title\":{\"standoff\":15},\"zerolinecolor\":\"white\",\"zerolinewidth\":2}}},\"title\":{\"text\":\"Recaudaci\\u00f3n por Genero\",\"y\":0.9,\"x\":0.5,\"xanchor\":\"center\",\"yanchor\":\"top\"}},                        {\"responsive\": true}                    ).then(function(){\n",
              "                            \n",
              "var gd = document.getElementById('ccf06fe6-1048-4b26-94d6-52283ca8fe52');\n",
              "var x = new MutationObserver(function (mutations, observer) {{\n",
              "        var display = window.getComputedStyle(gd).display;\n",
              "        if (!display || display === 'none') {{\n",
              "            console.log([gd, 'removed!']);\n",
              "            Plotly.purge(gd);\n",
              "            observer.disconnect();\n",
              "        }}\n",
              "}});\n",
              "\n",
              "// Listen for the removal of the full notebook cells\n",
              "var notebookContainer = gd.closest('#notebook-container');\n",
              "if (notebookContainer) {{\n",
              "    x.observe(notebookContainer, {childList: true});\n",
              "}}\n",
              "\n",
              "// Listen for the clearing of the current output cell\n",
              "var outputEl = gd.closest('.output');\n",
              "if (outputEl) {{\n",
              "    x.observe(outputEl, {childList: true});\n",
              "}}\n",
              "\n",
              "                        })                };                            </script>        </div>\n",
              "</body>\n",
              "</html>"
            ]
          },
          "metadata": {}
        }
      ]
    },
    {
      "cell_type": "markdown",
      "source": [
        "**Practica 6**"
      ],
      "metadata": {
        "id": "W8u7YE5UOkLJ"
      }
    },
    {
      "cell_type": "code",
      "source": [
        "#Regresion Lineal Simple \n",
        "x = df_final.Año\n",
        "y = df_final.IMDB\n",
        "plt.scatter(x,y)"
      ],
      "metadata": {
        "colab": {
          "base_uri": "https://localhost:8080/",
          "height": 285
        },
        "id": "ra-xzbdG83zZ",
        "outputId": "3331f7b0-471c-47cb-aa51-a42a558a8de5"
      },
      "execution_count": null,
      "outputs": [
        {
          "output_type": "execute_result",
          "data": {
            "text/plain": [
              "<matplotlib.collections.PathCollection at 0x7fcd83609050>"
            ]
          },
          "metadata": {},
          "execution_count": 112
        },
        {
          "output_type": "display_data",
          "data": {
            "text/plain": [
              "<Figure size 432x288 with 1 Axes>"
            ],
            "image/png": "[encoded data removed]"
          },
          "metadata": {}
        }
      ]
    },
    {
      "cell_type": "code",
      "source": [
        "!pip install -U scikit-learn\n",
        "!pip install Cython\n"
      ],
      "metadata": {
        "colab": {
          "base_uri": "https://localhost:8080/"
        },
        "id": "BfMYN_yOGtIA",
        "outputId": "9600ce8d-67a9-420b-9ec5-fe34149a788e"
      },
      "execution_count": null,
      "outputs": [
        {
          "output_type": "stream",
          "name": "stdout",
          "text": [
            "Requirement already satisfied: scikit-learn in /usr/local/lib/python3.7/dist-packages (1.0.2)\n",
            "Requirement already satisfied: joblib>=0.11 in /usr/local/lib/python3.7/dist-packages (from scikit-learn) (1.1.0)\n",
            "Requirement already satisfied: scipy>=1.1.0 in /usr/local/lib/python3.7/dist-packages (from scikit-learn) (1.4.1)\n",
            "Requirement already satisfied: numpy>=1.14.6 in /usr/local/lib/python3.7/dist-packages (from scikit-learn) (1.21.6)\n",
            "Requirement already satisfied: threadpoolctl>=2.0.0 in /usr/local/lib/python3.7/dist-packages (from scikit-learn) (3.1.0)\n",
            "Requirement already satisfied: Cython in /usr/local/lib/python3.7/dist-packages (0.29.28)\n"
          ]
        }
      ]
    },
    {
      "cell_type": "code",
      "source": [
        "\n",
        "from sklearn.linear_model import LinearRegression\n",
        "import seaborn as seabornInstance \n",
        "modelo = LinearRegression(fit_intercept=True)\n",
        "modelo.fit(df_final.Año[:,np.newaxis],df_final.IMDB)\n",
        "\n",
        "xfit= np.linspace(0,30,100)\n",
        "yfit= modelo.predict(xfit[:,np.newaxis])\n",
        "\n",
        "plt.scatter(x,y)\n",
        "plt.plot(xfit,yfit);"
      ],
      "metadata": {
        "colab": {
          "base_uri": "https://localhost:8080/",
          "height": 337
        },
        "id": "NE_eMhDUAMUz",
        "outputId": "53d521ec-6e69-4c17-9dc5-e7ef2e1e4417"
      },
      "execution_count": null,
      "outputs": [
        {
          "output_type": "stream",
          "name": "stderr",
          "text": [
            "/usr/local/lib/python3.7/dist-packages/ipykernel_launcher.py:5: FutureWarning:\n",
            "\n",
            "Support for multi-dimensional indexing (e.g. `obj[:, None]`) is deprecated and will be removed in a future version.  Convert to a numpy array before indexing instead.\n",
            "\n"
          ]
        },
        {
          "output_type": "display_data",
          "data": {
            "text/plain": [
              "<Figure size 432x288 with 1 Axes>"
            ],
            "image/png": "[encoded data removed]"
          },
          "metadata": {}
        }
      ]
    },
    {
      "cell_type": "code",
      "source": [
        "import pandas as pd \n",
        "import numpy as np \n",
        "import matplotlib.pyplot as plt \n",
        "import seaborn as seabornInstance \n",
        "from sklearn.model_selection import train_test_split\n",
        "\n",
        "df_final.describe()\n",
        "df_final.plot(x='Año', y='IMDB', style='o') \n",
        "plt.title('Año con IMDB') \n",
        "plt.xlabel('Año') \n",
        "plt.ylabel('IMDB') \n",
        "plt.show()\n",
        "\n",
        "plt.figure(figsize=(15,10))\n",
        "plt.tight_layout()\n",
        "seabornInstance.distplot(df_final['Año'])\n",
        "X = df_final['Año'].values.reshape(-1,1)\n",
        "y = df_final['IMDB'].values.reshape(-1,1)\n",
        "regressor = LinearRegression() \n",
        "X_train, X_test, y_train, y_test = train_test_split(X, y, test_size=0.2, random_state=0)\n",
        "regressor = LinearRegression() \n",
        "regressor.fit(X_train, y_train) #Entrena el algoritmo \n",
        "#Para obtener el intercepto:\n",
        "print(regressor.intercept_)\n",
        "#Para obtener la pendiente\n",
        "print(regressor.coef_)\n",
        "y_pred = regressor.predict(X_test)\n",
        "df_Regresion_Lineal = pd.DataFrame({'Actual': y_test.flatten(), 'Predicción': y_pred.flatten()})\n",
        "df_Regresion_Lineal"
      ],
      "metadata": {
        "colab": {
          "base_uri": "https://localhost:8080/",
          "height": 1000
        },
        "id": "USHTZ9vlC_8g",
        "outputId": "9016d2bd-c2f8-4e50-e406-72950da3e745"
      },
      "execution_count": null,
      "outputs": [
        {
          "output_type": "display_data",
          "data": {
            "text/plain": [
              "<Figure size 432x288 with 1 Axes>"
            ],
            "image/png": "[encoded data removed]"
          },
          "metadata": {}
        },
        {
          "output_type": "stream",
          "name": "stdout",
          "text": [
            "[-7.66288373]\n",
            "[[0.00734941]]\n"
          ]
        },
        {
          "output_type": "stream",
          "name": "stderr",
          "text": [
            "/usr/local/lib/python3.7/dist-packages/seaborn/distributions.py:2619: FutureWarning:\n",
            "\n",
            "`distplot` is a deprecated function and will be removed in a future version. Please adapt your code to use either `displot` (a figure-level function with similar flexibility) or `histplot` (an axes-level function for histograms).\n",
            "\n"
          ]
        },
        {
          "output_type": "execute_result",
          "data": {
            "text/plain": [
              "    Actual  Predicción\n",
              "0      6.8    6.866909\n",
              "1      7.2    6.925704\n",
              "2      6.8    7.080042\n",
              "3      7.4    6.962452\n",
              "4      8.0    6.969801\n",
              "5      6.0    7.035946\n",
              "6      6.0    6.962452\n",
              "7      8.0    6.962452\n",
              "8      6.7    7.124139\n",
              "9      7.2    7.131488\n",
              "10     7.2    7.013897\n",
              "11     8.7    6.866909\n",
              "12     6.4    7.035946\n",
              "13     6.4    6.940403\n",
              "14     6.2    7.006548\n",
              "15     5.1    6.888957\n",
              "16     6.9    6.933054\n",
              "17     4.8    6.991849\n",
              "18     8.2    7.057994\n",
              "19     7.2    7.087392\n",
              "20     6.9    6.969801\n",
              "21     7.6    7.013897\n",
              "22     8.4    7.094741\n",
              "23     6.5    7.087392\n",
              "24     5.5    6.947753\n",
              "25     7.3    7.072693\n",
              "26     6.4    6.911006\n",
              "27     6.7    7.072693\n",
              "28     8.4    6.933054\n",
              "29     6.6    6.911006\n",
              "30     7.5    7.131488\n",
              "31     7.1    6.991849\n",
              "32     5.8    6.947753\n",
              "33     6.8    6.984500\n",
              "34     7.6    7.102090\n",
              "35     6.8    6.999199\n",
              "36     6.0    7.065343\n",
              "37     8.1    7.043295\n",
              "38     6.7    7.116789\n",
              "39     6.4    7.035946\n",
              "40     7.6    6.940403\n",
              "41     6.4    6.925704\n",
              "42     6.4    7.109440\n",
              "43     6.9    6.984500\n",
              "44     7.3    6.933054\n",
              "45     8.2    7.124139\n",
              "46     7.3    6.874259\n",
              "47     6.9    6.991849\n",
              "48     6.2    6.955102\n",
              "49     6.1    6.999199\n",
              "50     7.4    7.006548\n",
              "51     5.8    7.138838\n",
              "52     6.3    7.116789\n",
              "53     7.6    6.859560"
            ],
            "text/html": [
              "\n",
              "  <div id=\"df-aecb4dd4-56c7-444c-90a1-4fcc0e278e65\">\n",
              "    <div class=\"colab-df-container\">\n",
              "      <div>\n",
              "<style scoped>\n",
              "    .dataframe tbody tr th:only-of-type {\n",
              "        vertical-align: middle;\n",
              "    }\n",
              "\n",
              "    .dataframe tbody tr th {\n",
              "        vertical-align: top;\n",
              "    }\n",
              "\n",
              "    .dataframe thead th {\n",
              "        text-align: right;\n",
              "    }\n",
              "</style>\n",
              "<table border=\"1\" class=\"dataframe\">\n",
              "  <thead>\n",
              "    <tr style=\"text-align: right;\">\n",
              "      <th></th>\n",
              "      <th>Actual</th>\n",
              "      <th>Predicción</th>\n",
              "    </tr>\n",
              "  </thead>\n",
              "  <tbody>\n",
              "    <tr>\n",
              "      <th>0</th>\n",
              "      <td>6.8</td>\n",
              "      <td>6.866909</td>\n",
              "    </tr>\n",
              "    <tr>\n",
              "      <th>1</th>\n",
              "      <td>7.2</td>\n",
              "      <td>6.925704</td>\n",
              "    </tr>\n",
              "    <tr>\n",
              "      <th>2</th>\n",
              "      <td>6.8</td>\n",
              "      <td>7.080042</td>\n",
              "    </tr>\n",
              "    <tr>\n",
              "      <th>3</th>\n",
              "      <td>7.4</td>\n",
              "      <td>6.962452</td>\n",
              "    </tr>\n",
              "    <tr>\n",
              "      <th>4</th>\n",
              "      <td>8.0</td>\n",
              "      <td>6.969801</td>\n",
              "    </tr>\n",
              "    <tr>\n",
              "      <th>5</th>\n",
              "      <td>6.0</td>\n",
              "      <td>7.035946</td>\n",
              "    </tr>\n",
              "    <tr>\n",
              "      <th>6</th>\n",
              "      <td>6.0</td>\n",
              "      <td>6.962452</td>\n",
              "    </tr>\n",
              "    <tr>\n",
              "      <th>7</th>\n",
              "      <td>8.0</td>\n",
              "      <td>6.962452</td>\n",
              "    </tr>\n",
              "    <tr>\n",
              "      <th>8</th>\n",
              "      <td>6.7</td>\n",
              "      <td>7.124139</td>\n",
              "    </tr>\n",
              "    <tr>\n",
              "      <th>9</th>\n",
              "      <td>7.2</td>\n",
              "      <td>7.131488</td>\n",
              "    </tr>\n",
              "    <tr>\n",
              "      <th>10</th>\n",
              "      <td>7.2</td>\n",
              "      <td>7.013897</td>\n",
              "    </tr>\n",
              "    <tr>\n",
              "      <th>11</th>\n",
              "      <td>8.7</td>\n",
              "      <td>6.866909</td>\n",
              "    </tr>\n",
              "    <tr>\n",
              "      <th>12</th>\n",
              "      <td>6.4</td>\n",
              "      <td>7.035946</td>\n",
              "    </tr>\n",
              "    <tr>\n",
              "      <th>13</th>\n",
              "      <td>6.4</td>\n",
              "      <td>6.940403</td>\n",
              "    </tr>\n",
              "    <tr>\n",
              "      <th>14</th>\n",
              "      <td>6.2</td>\n",
              "      <td>7.006548</td>\n",
              "    </tr>\n",
              "    <tr>\n",
              "      <th>15</th>\n",
              "      <td>5.1</td>\n",
              "      <td>6.888957</td>\n",
              "    </tr>\n",
              "    <tr>\n",
              "      <th>16</th>\n",
              "      <td>6.9</td>\n",
              "      <td>6.933054</td>\n",
              "    </tr>\n",
              "    <tr>\n",
              "      <th>17</th>\n",
              "      <td>4.8</td>\n",
              "      <td>6.991849</td>\n",
              "    </tr>\n",
              "    <tr>\n",
              "      <th>18</th>\n",
              "      <td>8.2</td>\n",
              "      <td>7.057994</td>\n",
              "    </tr>\n",
              "    <tr>\n",
              "      <th>19</th>\n",
              "      <td>7.2</td>\n",
              "      <td>7.087392</td>\n",
              "    </tr>\n",
              "    <tr>\n",
              "      <th>20</th>\n",
              "      <td>6.9</td>\n",
              "      <td>6.969801</td>\n",
              "    </tr>\n",
              "    <tr>\n",
              "      <th>21</th>\n",
              "      <td>7.6</td>\n",
              "      <td>7.013897</td>\n",
              "    </tr>\n",
              "    <tr>\n",
              "      <th>22</th>\n",
              "      <td>8.4</td>\n",
              "      <td>7.094741</td>\n",
              "    </tr>\n",
              "    <tr>\n",
              "      <th>23</th>\n",
              "      <td>6.5</td>\n",
              "      <td>7.087392</td>\n",
              "    </tr>\n",
              "    <tr>\n",
              "      <th>24</th>\n",
              "      <td>5.5</td>\n",
              "      <td>6.947753</td>\n",
              "    </tr>\n",
              "    <tr>\n",
              "      <th>25</th>\n",
              "      <td>7.3</td>\n",
              "      <td>7.072693</td>\n",
              "    </tr>\n",
              "    <tr>\n",
              "      <th>26</th>\n",
              "      <td>6.4</td>\n",
              "      <td>6.911006</td>\n",
              "    </tr>\n",
              "    <tr>\n",
              "      <th>27</th>\n",
              "      <td>6.7</td>\n",
              "      <td>7.072693</td>\n",
              "    </tr>\n",
              "    <tr>\n",
              "      <th>28</th>\n",
              "      <td>8.4</td>\n",
              "      <td>6.933054</td>\n",
              "    </tr>\n",
              "    <tr>\n",
              "      <th>29</th>\n",
              "      <td>6.6</td>\n",
              "      <td>6.911006</td>\n",
              "    </tr>\n",
              "    <tr>\n",
              "      <th>30</th>\n",
              "      <td>7.5</td>\n",
              "      <td>7.131488</td>\n",
              "    </tr>\n",
              "    <tr>\n",
              "      <th>31</th>\n",
              "      <td>7.1</td>\n",
              "      <td>6.991849</td>\n",
              "    </tr>\n",
              "    <tr>\n",
              "      <th>32</th>\n",
              "      <td>5.8</td>\n",
              "      <td>6.947753</td>\n",
              "    </tr>\n",
              "    <tr>\n",
              "      <th>33</th>\n",
              "      <td>6.8</td>\n",
              "      <td>6.984500</td>\n",
              "    </tr>\n",
              "    <tr>\n",
              "      <th>34</th>\n",
              "      <td>7.6</td>\n",
              "      <td>7.102090</td>\n",
              "    </tr>\n",
              "    <tr>\n",
              "      <th>35</th>\n",
              "      <td>6.8</td>\n",
              "      <td>6.999199</td>\n",
              "    </tr>\n",
              "    <tr>\n",
              "      <th>36</th>\n",
              "      <td>6.0</td>\n",
              "      <td>7.065343</td>\n",
              "    </tr>\n",
              "    <tr>\n",
              "      <th>37</th>\n",
              "      <td>8.1</td>\n",
              "      <td>7.043295</td>\n",
              "    </tr>\n",
              "    <tr>\n",
              "      <th>38</th>\n",
              "      <td>6.7</td>\n",
              "      <td>7.116789</td>\n",
              "    </tr>\n",
              "    <tr>\n",
              "      <th>39</th>\n",
              "      <td>6.4</td>\n",
              "      <td>7.035946</td>\n",
              "    </tr>\n",
              "    <tr>\n",
              "      <th>40</th>\n",
              "      <td>7.6</td>\n",
              "      <td>6.940403</td>\n",
              "    </tr>\n",
              "    <tr>\n",
              "      <th>41</th>\n",
              "      <td>6.4</td>\n",
              "      <td>6.925704</td>\n",
              "    </tr>\n",
              "    <tr>\n",
              "      <th>42</th>\n",
              "      <td>6.4</td>\n",
              "      <td>7.109440</td>\n",
              "    </tr>\n",
              "    <tr>\n",
              "      <th>43</th>\n",
              "      <td>6.9</td>\n",
              "      <td>6.984500</td>\n",
              "    </tr>\n",
              "    <tr>\n",
              "      <th>44</th>\n",
              "      <td>7.3</td>\n",
              "      <td>6.933054</td>\n",
              "    </tr>\n",
              "    <tr>\n",
              "      <th>45</th>\n",
              "      <td>8.2</td>\n",
              "      <td>7.124139</td>\n",
              "    </tr>\n",
              "    <tr>\n",
              "      <th>46</th>\n",
              "      <td>7.3</td>\n",
              "      <td>6.874259</td>\n",
              "    </tr>\n",
              "    <tr>\n",
              "      <th>47</th>\n",
              "      <td>6.9</td>\n",
              "      <td>6.991849</td>\n",
              "    </tr>\n",
              "    <tr>\n",
              "      <th>48</th>\n",
              "      <td>6.2</td>\n",
              "      <td>6.955102</td>\n",
              "    </tr>\n",
              "    <tr>\n",
              "      <th>49</th>\n",
              "      <td>6.1</td>\n",
              "      <td>6.999199</td>\n",
              "    </tr>\n",
              "    <tr>\n",
              "      <th>50</th>\n",
              "      <td>7.4</td>\n",
              "      <td>7.006548</td>\n",
              "    </tr>\n",
              "    <tr>\n",
              "      <th>51</th>\n",
              "      <td>5.8</td>\n",
              "      <td>7.138838</td>\n",
              "    </tr>\n",
              "    <tr>\n",
              "      <th>52</th>\n",
              "      <td>6.3</td>\n",
              "      <td>7.116789</td>\n",
              "    </tr>\n",
              "    <tr>\n",
              "      <th>53</th>\n",
              "      <td>7.6</td>\n",
              "      <td>6.859560</td>\n",
              "    </tr>\n",
              "  </tbody>\n",
              "</table>\n",
              "</div>\n",
              "      <button class=\"colab-df-convert\" onclick=\"convertToInteractive('df-aecb4dd4-56c7-444c-90a1-4fcc0e278e65')\"\n",
              "              title=\"Convert this dataframe to an interactive table.\"\n",
              "              style=\"display:none;\">\n",
              "        \n",
              "  <svg xmlns=\"http://www.w3.org/2000/svg\" height=\"24px\"viewBox=\"0 0 24 24\"\n",
              "       width=\"24px\">\n",
              "    <path d=\"M0 0h24v24H0V0z\" fill=\"none\"/>\n",
              "    <path d=\"M18.56 5.44l.94 2.06.94-2.06 2.06-.94-2.06-.94-.94-2.06-.94 2.06-2.06.94zm-11 1L8.5 8.5l.94-2.06 2.06-.94-2.06-.94L8.5 2.5l-.94 2.06-2.06.94zm10 10l.94 2.06.94-2.06 2.06-.94-2.06-.94-.94-2.06-.94 2.06-2.06.94z\"/><path d=\"M17.41 7.96l-1.37-1.37c-.4-.4-.92-.59-1.43-.59-.52 0-1.04.2-1.43.59L10.3 9.45l-7.72 7.72c-.78.78-.78 2.05 0 2.83L4 21.41c.39.39.9.59 1.41.59.51 0 1.02-.2 1.41-.59l7.78-7.78 2.81-2.81c.8-.78.8-2.07 0-2.86zM5.41 20L4 18.59l7.72-7.72 1.47 1.35L5.41 20z\"/>\n",
              "  </svg>\n",
              "      </button>\n",
              "      \n",
              "  <style>\n",
              "    .colab-df-container {\n",
              "      display:flex;\n",
              "      flex-wrap:wrap;\n",
              "      gap: 12px;\n",
              "    }\n",
              "\n",
              "    .colab-df-convert {\n",
              "      background-color: #E8F0FE;\n",
              "      border: none;\n",
              "      border-radius: 50%;\n",
              "      cursor: pointer;\n",
              "      display: none;\n",
              "      fill: #1967D2;\n",
              "      height: 32px;\n",
              "      padding: 0 0 0 0;\n",
              "      width: 32px;\n",
              "    }\n",
              "\n",
              "    .colab-df-convert:hover {\n",
              "      background-color: #E2EBFA;\n",
              "      box-shadow: 0px 1px 2px rgba(60, 64, 67, 0.3), 0px 1px 3px 1px rgba(60, 64, 67, 0.15);\n",
              "      fill: #174EA6;\n",
              "    }\n",
              "\n",
              "    [theme=dark] .colab-df-convert {\n",
              "      background-color: #3B4455;\n",
              "      fill: #D2E3FC;\n",
              "    }\n",
              "\n",
              "    [theme=dark] .colab-df-convert:hover {\n",
              "      background-color: #434B5C;\n",
              "      box-shadow: 0px 1px 3px 1px rgba(0, 0, 0, 0.15);\n",
              "      filter: drop-shadow(0px 1px 2px rgba(0, 0, 0, 0.3));\n",
              "      fill: #FFFFFF;\n",
              "    }\n",
              "  </style>\n",
              "\n",
              "      <script>\n",
              "        const buttonEl =\n",
              "          document.querySelector('#df-aecb4dd4-56c7-444c-90a1-4fcc0e278e65 button.colab-df-convert');\n",
              "        buttonEl.style.display =\n",
              "          google.colab.kernel.accessAllowed ? 'block' : 'none';\n",
              "\n",
              "        async function convertToInteractive(key) {\n",
              "          const element = document.querySelector('#df-aecb4dd4-56c7-444c-90a1-4fcc0e278e65');\n",
              "          const dataTable =\n",
              "            await google.colab.kernel.invokeFunction('convertToInteractive',\n",
              "                                                     [key], {});\n",
              "          if (!dataTable) return;\n",
              "\n",
              "          const docLinkHtml = 'Like what you see? Visit the ' +\n",
              "            '<a target=\"_blank\" href=https://colab.research.google.com/notebooks/data_table.ipynb>data table notebook</a>'\n",
              "            + ' to learn more about interactive tables.';\n",
              "          element.innerHTML = '';\n",
              "          dataTable['output_type'] = 'display_data';\n",
              "          await google.colab.output.renderOutput(dataTable, element);\n",
              "          const docLink = document.createElement('div');\n",
              "          docLink.innerHTML = docLinkHtml;\n",
              "          element.appendChild(docLink);\n",
              "        }\n",
              "      </script>\n",
              "    </div>\n",
              "  </div>\n",
              "  "
            ]
          },
          "metadata": {},
          "execution_count": 159
        },
        {
          "output_type": "display_data",
          "data": {
            "text/plain": [
              "<Figure size 1080x720 with 1 Axes>"
            ],
            "image/png": "[encoded data removed]"
          },
          "metadata": {}
        }
      ]
    },
    {
      "cell_type": "code",
      "source": [
        "#df1 = df.head(25)\n",
        "#df1.plot(kind='bar',figsize=(10,8))\n",
        "#plt.grid(which='major', linestyle='-', linewidth='0.5', color='green')\n",
        "#plt.grid(which='minor', linestyle=':', linewidth='0.5', color='black')\n",
        "#plt.show()#"
      ],
      "metadata": {
        "id": "rKp_TbxOLBHS"
      },
      "execution_count": 164,
      "outputs": []
    },
    {
      "cell_type": "code",
      "source": [
        "plt.scatter(X_test, y_test,  color='gray')\n",
        "plt.plot(X_test, y_pred, color='red', linewidth=2)\n",
        "plt.show()"
      ],
      "metadata": {
        "colab": {
          "base_uri": "https://localhost:8080/",
          "height": 268
        },
        "id": "IlZEzQoyLvP7",
        "outputId": "6394ea72-6c30-4b1c-cb15-8ba4d4761b4d"
      },
      "execution_count": 166,
      "outputs": [
        {
          "output_type": "display_data",
          "data": {
            "text/plain": [
              "<Figure size 432x288 with 1 Axes>"
            ],
            "image/png": "[encoded data removed]"
          },
          "metadata": {}
        }
      ]
    },
    {
      "cell_type": "markdown",
      "source": [
        "**Practica 7**"
      ],
      "metadata": {
        "id": "i2VOuxeWOo3p"
      }
    }
  ]
}